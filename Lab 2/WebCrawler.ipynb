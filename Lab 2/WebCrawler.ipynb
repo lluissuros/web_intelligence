{
 "cells": [
  {
   "cell_type": "code",
   "execution_count": 111,
   "metadata": {},
   "outputs": [
    {
     "name": "stdout",
     "output_type": "stream",
     "text": [
      "Requirement already satisfied: beautifulsoup4 in /Users/victornuneztarifa/venv/lib/python3.7/site-packages (4.7.1)\n",
      "Requirement already satisfied: soupsieve>=1.2 in /Users/victornuneztarifa/venv/lib/python3.7/site-packages (from beautifulsoup4) (1.7.3)\n",
      "Requirement already satisfied: lxml in /Users/victornuneztarifa/venv/lib/python3.7/site-packages (4.3.0)\n",
      "Requirement already satisfied: html5lib in /Users/victornuneztarifa/venv/lib/python3.7/site-packages (1.0.1)\n",
      "Requirement already satisfied: six>=1.9 in /Users/victornuneztarifa/venv/lib/python3.7/site-packages (from html5lib) (1.12.0)\n",
      "Requirement already satisfied: webencodings in /Users/victornuneztarifa/venv/lib/python3.7/site-packages (from html5lib) (0.5.1)\n"
     ]
    }
   ],
   "source": [
    "!pip3 install beautifulsoup4\n",
    "!pip3 install lxml\n",
    "!pip3 install html5lib"
   ]
  },
  {
   "cell_type": "code",
   "execution_count": 110,
   "metadata": {},
   "outputs": [
    {
     "name": "stdout",
     "output_type": "stream",
     "text": [
      "True\n",
      "https://www.wikidata.org/wiki/Q733992?uselang=es#P348\n",
      "True\n",
      "https://commons.wikimedia.org/wiki/File:Resident_Evil_2_logo.png\n",
      "True\n",
      "https://upload.wikimedia.org/wikipedia/commons/9/9d/Resident_Evil_2_logo.png\n"
     ]
    }
   ],
   "source": [
    "from bs4 import BeautifulSoup\n",
    "import requests\n",
    "import csv\n",
    "import urllib.robotparser as robotparser\n",
    "\n",
    "#len(soup.find_all('a'))\n",
    "\n",
    "#soup.title\n",
    "\n",
    "#for link in soup.find_all('a','external text'):\n",
    "    #print(link.get('href'))\n",
    "    \n",
    "\n",
    "url_address = 'https://es.wikipedia.org/wiki/Resident_Evil_2'   \n",
    "page_links = [] #\n",
    "url_links = []\n",
    "url_level = 1\n",
    "thres = 3\n",
    "\n",
    "rp = robotparser.RobotFileParser() #variable for robotparser class\n",
    "\n",
    "\n",
    "while url_level<= thres: #how deep is the breadth-first approach\n",
    "\n",
    "    rp.set_url(url_address) #robotparser get address\n",
    "    rp.read() #robotparser read\n",
    "    print(rp.can_fetch(\"*\",url_address)) #it asks if we can fetch or not this url (True yes; False not)\n",
    "    resp = requests.get(url_address) #extracts html from web\n",
    "    soup = BeautifulSoup(resp.text, 'html.parser')\n",
    "    page_links.clear() #clear page_links list\n",
    "    url_links.clear() #clear url_links list\n",
    "    \n",
    "\n",
    "    for link in soup.find_all('a'):\n",
    "        page_links.append(link.get('href')) #extract href information\n",
    "\n",
    "    page_links.pop(0) #get rid of None value ; maybe we can try another solution\n",
    "\n",
    "    for line in page_links:\n",
    "        if line.lower().startswith('http'): #if this href begin with http:\n",
    "            url_links.append(line)\n",
    "    \n",
    "    url_address = url_links[0] #initialize the next loop with the first url element of the list\n",
    "    print(url_address)\n",
    "    \n",
    "    url_level += 1\n"
   ]
  },
  {
   "cell_type": "code",
   "execution_count": null,
   "metadata": {},
   "outputs": [],
   "source": []
  },
  {
   "cell_type": "code",
   "execution_count": null,
   "metadata": {},
   "outputs": [],
   "source": []
  },
  {
   "cell_type": "code",
   "execution_count": null,
   "metadata": {},
   "outputs": [],
   "source": []
  }
 ],
 "metadata": {
  "kernelspec": {
   "display_name": "Python 3",
   "language": "python",
   "name": "python3"
  },
  "language_info": {
   "codemirror_mode": {
    "name": "ipython",
    "version": 3
   },
   "file_extension": ".py",
   "mimetype": "text/x-python",
   "name": "python",
   "nbconvert_exporter": "python",
   "pygments_lexer": "ipython3",
   "version": "3.7.0"
  }
 },
 "nbformat": 4,
 "nbformat_minor": 2
}
